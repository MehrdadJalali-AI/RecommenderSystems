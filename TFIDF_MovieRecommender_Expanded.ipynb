{
  "cells": [
    {
      "cell_type": "markdown",
      "metadata": {
        "id": "view-in-github",
        "colab_type": "text"
      },
      "source": [
        "<a href=\"https://colab.research.google.com/github/MehrdadJalali-AI/RecommenderSystems/blob/main/TFIDF_MovieRecommender_Expanded.ipynb\" target=\"_parent\"><img src=\"https://colab.research.google.com/assets/colab-badge.svg\" alt=\"Open In Colab\"/></a>"
      ]
    },
    {
      "cell_type": "markdown",
      "metadata": {
        "id": "NdfjZJrSVfUC"
      },
      "source": [
        "# 🎬 Advanced TF-IDF Content-Based Movie Recommender\n",
        "\n",
        "This notebook provides an **expanded implementation** of a **Content-Based Recommendation System** using **TF-IDF** (Term Frequency–Inverse Document Frequency) with the **MovieLens dataset**. We’ll enhance the original system by incorporating additional metadata, improving evaluation metrics, and adding more visualizations.\n",
        "\n",
        "---\n",
        "## 🧩 What You’ll Learn\n",
        "1. How to preprocess and combine multiple metadata fields (genres, keywords, etc.)\n",
        "2. How to create TF-IDF vectors for richer movie representations\n",
        "3. How to compute cosine similarity for item-item recommendations\n",
        "4. How to generate and evaluate recommendations with advanced metrics\n",
        "5. How to visualize similarity scores and recommendation patterns\n",
        "6. How to handle edge cases and improve robustness\n",
        "\n",
        "---\n",
        "## 📋 Prerequisites\n",
        "- **Dataset**: MovieLens dataset (`movies.csv` and optionally `keywords.csv` for richer metadata)\n",
        "- **Libraries**: Install required Python libraries (`pandas`, `numpy`, `scikit-learn`, `matplotlib`, `seaborn`)\n",
        "- **Setup**: Ensure you have the dataset files in your working directory\n"
      ],
      "id": "NdfjZJrSVfUC"
    },
    {
      "cell_type": "code",
      "execution_count": 1,
      "metadata": {
        "colab": {
          "base_uri": "https://localhost:8080/"
        },
        "id": "EpqmiO8QVfUF",
        "outputId": "01747994-ae77-4af0-f347-62f169238fd3"
      },
      "outputs": [
        {
          "output_type": "stream",
          "name": "stdout",
          "text": [
            "Libraries and NLTK stopwords loaded successfully!\n"
          ]
        },
        {
          "output_type": "stream",
          "name": "stderr",
          "text": [
            "[nltk_data] Downloading package stopwords to /root/nltk_data...\n",
            "[nltk_data]   Unzipping corpora/stopwords.zip.\n"
          ]
        }
      ],
      "source": [
        "# Step 1: Import Required Libraries\n",
        "import pandas as pd\n",
        "import numpy as np\n",
        "from sklearn.feature_extraction.text import TfidfVectorizer\n",
        "from sklearn.metrics.pairwise import cosine_similarity\n",
        "from sklearn.metrics import precision_score, recall_score\n",
        "import matplotlib.pyplot as plt\n",
        "import seaborn as sns\n",
        "from nltk.corpus import stopwords\n",
        "import nltk\n",
        "import re\n",
        "\n",
        "# Download NLTK stopwords if not already installed\n",
        "nltk.download('stopwords')\n",
        "stop_words = set(stopwords.words('english'))\n",
        "print('Libraries and NLTK stopwords loaded successfully!')"
      ],
      "id": "EpqmiO8QVfUF"
    },
    {
      "cell_type": "markdown",
      "metadata": {
        "id": "vjusB1pWVfUG"
      },
      "source": [
        "## 📥 Step 2: Load and Explore the Dataset\n",
        "We’ll use the **MovieLens** dataset, which contains movie titles, genres, and optionally keywords or tags for richer metadata. The dataset is available from [GroupLens](https://grouplens.org/datasets/movielens/). Ensure you have `movies.csv` in your directory. Optionally, include `keywords.csv` for enhanced features.\n",
        "\n",
        "### Dataset Description\n",
        "- **movies.csv**: Contains `movieId`, `title`, and `genres` (pipe-separated, e.g., 'Action|Comedy')\n",
        "- **keywords.csv** (optional): Contains `movieId` and `keywords` (additional metadata like themes or tags)"
      ],
      "id": "vjusB1pWVfUG"
    },
    {
      "cell_type": "code",
      "execution_count": 14,
      "metadata": {
        "colab": {
          "base_uri": "https://localhost:8080/"
        },
        "id": "cBCsFlpnVfUG",
        "outputId": "339897d4-da84-42d4-8d6a-5c8968fa4246"
      },
      "outputs": [
        {
          "output_type": "stream",
          "name": "stdout",
          "text": [
            "✅ Movies dataset loaded successfully! Total movies: 9742\n",
            "⚠️ Keywords dataset not found or not accessible. Proceeding with genres only.\n",
            "\n",
            "📊 Sample of the combined dataset:\n",
            "   movieId                               title  \\\n",
            "0        1                    Toy Story (1995)   \n",
            "1        2                      Jumanji (1995)   \n",
            "2        3             Grumpier Old Men (1995)   \n",
            "3        4            Waiting to Exhale (1995)   \n",
            "4        5  Father of the Bride Part II (1995)   \n",
            "\n",
            "                                        genres keywords  \n",
            "0  Adventure|Animation|Children|Comedy|Fantasy           \n",
            "1                   Adventure|Children|Fantasy           \n",
            "2                               Comedy|Romance           \n",
            "3                         Comedy|Drama|Romance           \n",
            "4                                       Comedy           \n"
          ]
        }
      ],
      "source": [
        "# ============================================\n",
        "# 🎬 Load MovieLens Dataset (from GitHub)\n",
        "# ============================================\n",
        "\n",
        "import pandas as pd\n",
        "\n",
        "# Step 1: Define URLs for GitHub datasets\n",
        "movies_url = \"https://raw.githubusercontent.com/MehrdadJalali-AI/RecommenderSystems/main/Datasets/ml-latest-small/movies.csv\"\n",
        "\n",
        "movies_url = \"https://raw.githubusercontent.com/MehrdadJalali-AI/RecommenderSystems/main/Datasets/ml-latest-small/movies.csv\"\n",
        "\n",
        "\n",
        "# Step 2: Load movies dataset\n",
        "try:\n",
        "    movies = pd.read_csv(movies_url)\n",
        "    print(f\"✅ Movies dataset loaded successfully! Total movies: {len(movies)}\")\n",
        "except Exception as e:\n",
        "    print(f\"❌ Error loading movies dataset: {e}\")\n",
        "    raise\n",
        "\n",
        "# Step 3: Attempt to load optional keywords dataset\n",
        "try:\n",
        "    keywords = pd.read_csv(keywords_url)\n",
        "    print(f\"📘 Keywords dataset loaded successfully! Total entries: {len(keywords)}\")\n",
        "\n",
        "    # Merge keywords with movies on movieId\n",
        "    movies = movies.merge(keywords, on=\"movieId\", how=\"left\")\n",
        "    print(\"🔗 Keywords merged with movies dataset.\")\n",
        "\n",
        "except Exception:\n",
        "    print(\"⚠️ Keywords dataset not found or not accessible. Proceeding with genres only.\")\n",
        "    movies[\"keywords\"] = \"\"\n",
        "\n",
        "# Step 4: Show dataset preview\n",
        "print(\"\\n📊 Sample of the combined dataset:\")\n",
        "print(movies.head())\n"
      ],
      "id": "cBCsFlpnVfUG"
    },
    {
      "cell_type": "markdown",
      "metadata": {
        "id": "nOvWJazBVfUH"
      },
      "source": [
        "## 🧹 Step 3: Data Preprocessing\n",
        "We’ll clean the data to ensure it’s suitable for TF-IDF vectorization. This includes handling missing values, cleaning text, and combining metadata fields.\n",
        "\n",
        "### Preprocessing Steps\n",
        "1. Replace missing genres and keywords with empty strings\n",
        "2. Clean genres and keywords by removing special characters and converting to lowercase\n",
        "3. Combine genres and keywords into a single feature for TF-IDF\n"
      ],
      "id": "nOvWJazBVfUH"
    },
    {
      "cell_type": "code",
      "execution_count": 4,
      "metadata": {
        "colab": {
          "base_uri": "https://localhost:8080/",
          "height": 223
        },
        "id": "aXi9zW7KVfUH",
        "outputId": "4d42e98f-23b4-495d-816f-761cfd227308"
      },
      "outputs": [
        {
          "output_type": "stream",
          "name": "stdout",
          "text": [
            "✅ Data cleaning completed. Combined features created.\n"
          ]
        },
        {
          "output_type": "execute_result",
          "data": {
            "text/plain": [
              "                                title  \\\n",
              "0                    Toy Story (1995)   \n",
              "1                      Jumanji (1995)   \n",
              "2             Grumpier Old Men (1995)   \n",
              "3            Waiting to Exhale (1995)   \n",
              "4  Father of the Bride Part II (1995)   \n",
              "\n",
              "                                        genres keywords  \\\n",
              "0  Adventure|Animation|Children|Comedy|Fantasy            \n",
              "1                   Adventure|Children|Fantasy            \n",
              "2                               Comedy|Romance            \n",
              "3                         Comedy|Drama|Romance            \n",
              "4                                       Comedy            \n",
              "\n",
              "                              combined_features  \n",
              "0  adventure animation children comedy fantasy   \n",
              "1                   adventure children fantasy   \n",
              "2                               comedy romance   \n",
              "3                         comedy drama romance   \n",
              "4                                       comedy   "
            ],
            "text/html": [
              "\n",
              "  <div id=\"df-eeaf8f7a-e277-4da1-9d7e-ddde07d39227\" class=\"colab-df-container\">\n",
              "    <div>\n",
              "<style scoped>\n",
              "    .dataframe tbody tr th:only-of-type {\n",
              "        vertical-align: middle;\n",
              "    }\n",
              "\n",
              "    .dataframe tbody tr th {\n",
              "        vertical-align: top;\n",
              "    }\n",
              "\n",
              "    .dataframe thead th {\n",
              "        text-align: right;\n",
              "    }\n",
              "</style>\n",
              "<table border=\"1\" class=\"dataframe\">\n",
              "  <thead>\n",
              "    <tr style=\"text-align: right;\">\n",
              "      <th></th>\n",
              "      <th>title</th>\n",
              "      <th>genres</th>\n",
              "      <th>keywords</th>\n",
              "      <th>combined_features</th>\n",
              "    </tr>\n",
              "  </thead>\n",
              "  <tbody>\n",
              "    <tr>\n",
              "      <th>0</th>\n",
              "      <td>Toy Story (1995)</td>\n",
              "      <td>Adventure|Animation|Children|Comedy|Fantasy</td>\n",
              "      <td></td>\n",
              "      <td>adventure animation children comedy fantasy</td>\n",
              "    </tr>\n",
              "    <tr>\n",
              "      <th>1</th>\n",
              "      <td>Jumanji (1995)</td>\n",
              "      <td>Adventure|Children|Fantasy</td>\n",
              "      <td></td>\n",
              "      <td>adventure children fantasy</td>\n",
              "    </tr>\n",
              "    <tr>\n",
              "      <th>2</th>\n",
              "      <td>Grumpier Old Men (1995)</td>\n",
              "      <td>Comedy|Romance</td>\n",
              "      <td></td>\n",
              "      <td>comedy romance</td>\n",
              "    </tr>\n",
              "    <tr>\n",
              "      <th>3</th>\n",
              "      <td>Waiting to Exhale (1995)</td>\n",
              "      <td>Comedy|Drama|Romance</td>\n",
              "      <td></td>\n",
              "      <td>comedy drama romance</td>\n",
              "    </tr>\n",
              "    <tr>\n",
              "      <th>4</th>\n",
              "      <td>Father of the Bride Part II (1995)</td>\n",
              "      <td>Comedy</td>\n",
              "      <td></td>\n",
              "      <td>comedy</td>\n",
              "    </tr>\n",
              "  </tbody>\n",
              "</table>\n",
              "</div>\n",
              "    <div class=\"colab-df-buttons\">\n",
              "\n",
              "  <div class=\"colab-df-container\">\n",
              "    <button class=\"colab-df-convert\" onclick=\"convertToInteractive('df-eeaf8f7a-e277-4da1-9d7e-ddde07d39227')\"\n",
              "            title=\"Convert this dataframe to an interactive table.\"\n",
              "            style=\"display:none;\">\n",
              "\n",
              "  <svg xmlns=\"http://www.w3.org/2000/svg\" height=\"24px\" viewBox=\"0 -960 960 960\">\n",
              "    <path d=\"M120-120v-720h720v720H120Zm60-500h600v-160H180v160Zm220 220h160v-160H400v160Zm0 220h160v-160H400v160ZM180-400h160v-160H180v160Zm440 0h160v-160H620v160ZM180-180h160v-160H180v160Zm440 0h160v-160H620v160Z\"/>\n",
              "  </svg>\n",
              "    </button>\n",
              "\n",
              "  <style>\n",
              "    .colab-df-container {\n",
              "      display:flex;\n",
              "      gap: 12px;\n",
              "    }\n",
              "\n",
              "    .colab-df-convert {\n",
              "      background-color: #E8F0FE;\n",
              "      border: none;\n",
              "      border-radius: 50%;\n",
              "      cursor: pointer;\n",
              "      display: none;\n",
              "      fill: #1967D2;\n",
              "      height: 32px;\n",
              "      padding: 0 0 0 0;\n",
              "      width: 32px;\n",
              "    }\n",
              "\n",
              "    .colab-df-convert:hover {\n",
              "      background-color: #E2EBFA;\n",
              "      box-shadow: 0px 1px 2px rgba(60, 64, 67, 0.3), 0px 1px 3px 1px rgba(60, 64, 67, 0.15);\n",
              "      fill: #174EA6;\n",
              "    }\n",
              "\n",
              "    .colab-df-buttons div {\n",
              "      margin-bottom: 4px;\n",
              "    }\n",
              "\n",
              "    [theme=dark] .colab-df-convert {\n",
              "      background-color: #3B4455;\n",
              "      fill: #D2E3FC;\n",
              "    }\n",
              "\n",
              "    [theme=dark] .colab-df-convert:hover {\n",
              "      background-color: #434B5C;\n",
              "      box-shadow: 0px 1px 3px 1px rgba(0, 0, 0, 0.15);\n",
              "      filter: drop-shadow(0px 1px 2px rgba(0, 0, 0, 0.3));\n",
              "      fill: #FFFFFF;\n",
              "    }\n",
              "  </style>\n",
              "\n",
              "    <script>\n",
              "      const buttonEl =\n",
              "        document.querySelector('#df-eeaf8f7a-e277-4da1-9d7e-ddde07d39227 button.colab-df-convert');\n",
              "      buttonEl.style.display =\n",
              "        google.colab.kernel.accessAllowed ? 'block' : 'none';\n",
              "\n",
              "      async function convertToInteractive(key) {\n",
              "        const element = document.querySelector('#df-eeaf8f7a-e277-4da1-9d7e-ddde07d39227');\n",
              "        const dataTable =\n",
              "          await google.colab.kernel.invokeFunction('convertToInteractive',\n",
              "                                                    [key], {});\n",
              "        if (!dataTable) return;\n",
              "\n",
              "        const docLinkHtml = 'Like what you see? Visit the ' +\n",
              "          '<a target=\"_blank\" href=https://colab.research.google.com/notebooks/data_table.ipynb>data table notebook</a>'\n",
              "          + ' to learn more about interactive tables.';\n",
              "        element.innerHTML = '';\n",
              "        dataTable['output_type'] = 'display_data';\n",
              "        await google.colab.output.renderOutput(dataTable, element);\n",
              "        const docLink = document.createElement('div');\n",
              "        docLink.innerHTML = docLinkHtml;\n",
              "        element.appendChild(docLink);\n",
              "      }\n",
              "    </script>\n",
              "  </div>\n",
              "\n",
              "\n",
              "    <div id=\"df-c5e5abff-ae5a-40c4-8045-32a85411c530\">\n",
              "      <button class=\"colab-df-quickchart\" onclick=\"quickchart('df-c5e5abff-ae5a-40c4-8045-32a85411c530')\"\n",
              "                title=\"Suggest charts\"\n",
              "                style=\"display:none;\">\n",
              "\n",
              "<svg xmlns=\"http://www.w3.org/2000/svg\" height=\"24px\"viewBox=\"0 0 24 24\"\n",
              "     width=\"24px\">\n",
              "    <g>\n",
              "        <path d=\"M19 3H5c-1.1 0-2 .9-2 2v14c0 1.1.9 2 2 2h14c1.1 0 2-.9 2-2V5c0-1.1-.9-2-2-2zM9 17H7v-7h2v7zm4 0h-2V7h2v10zm4 0h-2v-4h2v4z\"/>\n",
              "    </g>\n",
              "</svg>\n",
              "      </button>\n",
              "\n",
              "<style>\n",
              "  .colab-df-quickchart {\n",
              "      --bg-color: #E8F0FE;\n",
              "      --fill-color: #1967D2;\n",
              "      --hover-bg-color: #E2EBFA;\n",
              "      --hover-fill-color: #174EA6;\n",
              "      --disabled-fill-color: #AAA;\n",
              "      --disabled-bg-color: #DDD;\n",
              "  }\n",
              "\n",
              "  [theme=dark] .colab-df-quickchart {\n",
              "      --bg-color: #3B4455;\n",
              "      --fill-color: #D2E3FC;\n",
              "      --hover-bg-color: #434B5C;\n",
              "      --hover-fill-color: #FFFFFF;\n",
              "      --disabled-bg-color: #3B4455;\n",
              "      --disabled-fill-color: #666;\n",
              "  }\n",
              "\n",
              "  .colab-df-quickchart {\n",
              "    background-color: var(--bg-color);\n",
              "    border: none;\n",
              "    border-radius: 50%;\n",
              "    cursor: pointer;\n",
              "    display: none;\n",
              "    fill: var(--fill-color);\n",
              "    height: 32px;\n",
              "    padding: 0;\n",
              "    width: 32px;\n",
              "  }\n",
              "\n",
              "  .colab-df-quickchart:hover {\n",
              "    background-color: var(--hover-bg-color);\n",
              "    box-shadow: 0 1px 2px rgba(60, 64, 67, 0.3), 0 1px 3px 1px rgba(60, 64, 67, 0.15);\n",
              "    fill: var(--button-hover-fill-color);\n",
              "  }\n",
              "\n",
              "  .colab-df-quickchart-complete:disabled,\n",
              "  .colab-df-quickchart-complete:disabled:hover {\n",
              "    background-color: var(--disabled-bg-color);\n",
              "    fill: var(--disabled-fill-color);\n",
              "    box-shadow: none;\n",
              "  }\n",
              "\n",
              "  .colab-df-spinner {\n",
              "    border: 2px solid var(--fill-color);\n",
              "    border-color: transparent;\n",
              "    border-bottom-color: var(--fill-color);\n",
              "    animation:\n",
              "      spin 1s steps(1) infinite;\n",
              "  }\n",
              "\n",
              "  @keyframes spin {\n",
              "    0% {\n",
              "      border-color: transparent;\n",
              "      border-bottom-color: var(--fill-color);\n",
              "      border-left-color: var(--fill-color);\n",
              "    }\n",
              "    20% {\n",
              "      border-color: transparent;\n",
              "      border-left-color: var(--fill-color);\n",
              "      border-top-color: var(--fill-color);\n",
              "    }\n",
              "    30% {\n",
              "      border-color: transparent;\n",
              "      border-left-color: var(--fill-color);\n",
              "      border-top-color: var(--fill-color);\n",
              "      border-right-color: var(--fill-color);\n",
              "    }\n",
              "    40% {\n",
              "      border-color: transparent;\n",
              "      border-right-color: var(--fill-color);\n",
              "      border-top-color: var(--fill-color);\n",
              "    }\n",
              "    60% {\n",
              "      border-color: transparent;\n",
              "      border-right-color: var(--fill-color);\n",
              "    }\n",
              "    80% {\n",
              "      border-color: transparent;\n",
              "      border-right-color: var(--fill-color);\n",
              "      border-bottom-color: var(--fill-color);\n",
              "    }\n",
              "    90% {\n",
              "      border-color: transparent;\n",
              "      border-bottom-color: var(--fill-color);\n",
              "    }\n",
              "  }\n",
              "</style>\n",
              "\n",
              "      <script>\n",
              "        async function quickchart(key) {\n",
              "          const quickchartButtonEl =\n",
              "            document.querySelector('#' + key + ' button');\n",
              "          quickchartButtonEl.disabled = true;  // To prevent multiple clicks.\n",
              "          quickchartButtonEl.classList.add('colab-df-spinner');\n",
              "          try {\n",
              "            const charts = await google.colab.kernel.invokeFunction(\n",
              "                'suggestCharts', [key], {});\n",
              "          } catch (error) {\n",
              "            console.error('Error during call to suggestCharts:', error);\n",
              "          }\n",
              "          quickchartButtonEl.classList.remove('colab-df-spinner');\n",
              "          quickchartButtonEl.classList.add('colab-df-quickchart-complete');\n",
              "        }\n",
              "        (() => {\n",
              "          let quickchartButtonEl =\n",
              "            document.querySelector('#df-c5e5abff-ae5a-40c4-8045-32a85411c530 button');\n",
              "          quickchartButtonEl.style.display =\n",
              "            google.colab.kernel.accessAllowed ? 'block' : 'none';\n",
              "        })();\n",
              "      </script>\n",
              "    </div>\n",
              "\n",
              "    </div>\n",
              "  </div>\n"
            ],
            "application/vnd.google.colaboratory.intrinsic+json": {
              "type": "dataframe",
              "summary": "{\n  \"name\": \"movies[['title', 'genres', 'keywords', 'combined_features']]\",\n  \"rows\": 5,\n  \"fields\": [\n    {\n      \"column\": \"title\",\n      \"properties\": {\n        \"dtype\": \"string\",\n        \"num_unique_values\": 5,\n        \"samples\": [\n          \"Jumanji (1995)\",\n          \"Father of the Bride Part II (1995)\",\n          \"Grumpier Old Men (1995)\"\n        ],\n        \"semantic_type\": \"\",\n        \"description\": \"\"\n      }\n    },\n    {\n      \"column\": \"genres\",\n      \"properties\": {\n        \"dtype\": \"string\",\n        \"num_unique_values\": 5,\n        \"samples\": [\n          \"Adventure|Children|Fantasy\",\n          \"Comedy\",\n          \"Comedy|Romance\"\n        ],\n        \"semantic_type\": \"\",\n        \"description\": \"\"\n      }\n    },\n    {\n      \"column\": \"keywords\",\n      \"properties\": {\n        \"dtype\": \"object\",\n        \"num_unique_values\": 1,\n        \"samples\": [\n          \"\"\n        ],\n        \"semantic_type\": \"\",\n        \"description\": \"\"\n      }\n    },\n    {\n      \"column\": \"combined_features\",\n      \"properties\": {\n        \"dtype\": \"string\",\n        \"num_unique_values\": 5,\n        \"samples\": [\n          \"adventure children fantasy \"\n        ],\n        \"semantic_type\": \"\",\n        \"description\": \"\"\n      }\n    }\n  ]\n}"
            }
          },
          "metadata": {},
          "execution_count": 4
        }
      ],
      "source": [
        "# Handle missing values\n",
        "movies['genres'] = movies['genres'].fillna('')\n",
        "movies['keywords'] = movies['keywords'].fillna('')\n",
        "\n",
        "# Clean text data\n",
        "def clean_text(text):\n",
        "    text = re.sub(r'[^a-zA-Z0-9\\s]', ' ', text)  # Remove special characters\n",
        "    text = text.lower()  # Convert to lowercase\n",
        "    text = ' '.join([word for word in text.split() if word not in stop_words])  # Remove stopwords\n",
        "    return text\n",
        "\n",
        "# Apply cleaning to genres and keywords\n",
        "movies['genres_cleaned'] = movies['genres'].apply(clean_text)\n",
        "movies['keywords_cleaned'] = movies['keywords'].apply(clean_text)\n",
        "\n",
        "# Combine genres and keywords into a single feature\n",
        "movies['combined_features'] = movies['genres_cleaned'] + ' ' + movies['keywords_cleaned']\n",
        "\n",
        "print('✅ Data cleaning completed. Combined features created.')\n",
        "movies[['title', 'genres', 'keywords', 'combined_features']].head()"
      ],
      "id": "aXi9zW7KVfUH"
    },
    {
      "cell_type": "markdown",
      "metadata": {
        "id": "FI6XFAp1VfUH"
      },
      "source": [
        "## 🧠 Step 4: TF-IDF Vectorization\n",
        "We’ll convert the combined metadata (genres + keywords) into TF-IDF vectors. TF-IDF assigns weights to terms based on their frequency in a movie and rarity across all movies, capturing distinctive features.\n",
        "\n",
        "### Why TF-IDF?\n",
        "- **Term Frequency (TF)**: Measures how often a term appears in a movie’s metadata\n",
        "- **Inverse Document Frequency (IDF)**: Reduces the weight of common terms (e.g., 'drama') and emphasizes rare ones\n",
        "- **Stop Words**: We remove common English words (e.g., 'the', 'and') to focus on meaningful terms\n"
      ],
      "id": "FI6XFAp1VfUH"
    },
    {
      "cell_type": "code",
      "execution_count": 5,
      "metadata": {
        "colab": {
          "base_uri": "https://localhost:8080/"
        },
        "id": "tr7ZpXmuVfUI",
        "outputId": "47b31cb0-2cc1-47f8-81c8-be3195f9df92"
      },
      "outputs": [
        {
          "output_type": "stream",
          "name": "stdout",
          "text": [
            "TF-IDF Matrix Shape: (9742, 23)\n",
            "Feature Names (Sample): ['action' 'adventure' 'animation' 'children' 'comedy' 'crime'\n",
            " 'documentary' 'drama' 'fantasy' 'fi']\n"
          ]
        }
      ],
      "source": [
        "# Initialize TF-IDF vectorizer\n",
        "tfidf = TfidfVectorizer(stop_words='english', max_features=5000)  # Limit to top 5000 terms\n",
        "\n",
        "# Create TF-IDF matrix from combined features\n",
        "tfidf_matrix = tfidf.fit_transform(movies['combined_features'])\n",
        "\n",
        "print(f'TF-IDF Matrix Shape: {tfidf_matrix.shape}')\n",
        "print(f'Feature Names (Sample): {tfidf.get_feature_names_out()[:10]}')"
      ],
      "id": "tr7ZpXmuVfUI"
    },
    {
      "cell_type": "markdown",
      "metadata": {
        "id": "SyA4KryXVfUI"
      },
      "source": [
        "## 🔍 Step 5: Compute Cosine Similarity\n",
        "We’ll compute **cosine similarity** between TF-IDF vectors to measure how similar movies are. Cosine similarity ranges from 0 (completely different) to 1 (identical).\n",
        "\n",
        "### Formula\n",
        "Cosine Similarity = cos(θ) = (A · B) / (||A|| * ||B||)\n",
        "\n",
        "Where:\n",
        "- A, B are TF-IDF vectors for two movies\n",
        "- · denotes dot product\n",
        "- ||A||, ||B|| are vector magnitudes\n"
      ],
      "id": "SyA4KryXVfUI"
    },
    {
      "cell_type": "code",
      "execution_count": 6,
      "metadata": {
        "colab": {
          "base_uri": "https://localhost:8080/"
        },
        "id": "oQ5hqqbpVfUI",
        "outputId": "da035679-c3b8-4f31-95ee-e3cabe647dcb"
      },
      "outputs": [
        {
          "output_type": "stream",
          "name": "stdout",
          "text": [
            "✅ Cosine similarity matrix computed.\n",
            "Matrix Shape: (9742, 9742)\n"
          ]
        }
      ],
      "source": [
        "# Compute cosine similarity matrix\n",
        "cosine_sim = cosine_similarity(tfidf_matrix, tfidf_matrix)\n",
        "\n",
        "print('✅ Cosine similarity matrix computed.')\n",
        "print(f'Matrix Shape: {cosine_sim.shape}')"
      ],
      "id": "oQ5hqqbpVfUI"
    },
    {
      "cell_type": "markdown",
      "metadata": {
        "id": "a2tBJkYFVfUI"
      },
      "source": [
        "## 🎯 Step 6: Define a Recommender Function\n",
        "We’ll create a function to recommend the top N similar movies for a given title. The function handles edge cases (e.g., movie not found) and allows customization of the number of recommendations.\n"
      ],
      "id": "a2tBJkYFVfUI"
    },
    {
      "cell_type": "code",
      "execution_count": 7,
      "metadata": {
        "id": "G276b3jyVfUJ"
      },
      "outputs": [],
      "source": [
        "# Create index mapping for movie titles\n",
        "indices = pd.Series(movies.index, index=movies['title']).drop_duplicates()\n",
        "\n",
        "def recommend_movies(title, cosine_sim=cosine_sim, n=5):\n",
        "    \"\"\"Recommend top N similar movies based on title.\"\"\"\n",
        "    if title not in indices:\n",
        "        return f\"❌ '{title}' not found in dataset.\"\n",
        "    idx = indices[title]\n",
        "    sim_scores = list(enumerate(cosine_sim[idx]))\n",
        "    sim_scores = sorted(sim_scores, key=lambda x: x[1], reverse=True)\n",
        "    sim_scores = sim_scores[1:n+1]  # Exclude the movie itself\n",
        "    movie_indices = [i[0] for i in sim_scores]\n",
        "    return movies[['title', 'genres']].iloc[movie_indices]\n"
      ],
      "id": "G276b3jyVfUJ"
    },
    {
      "cell_type": "markdown",
      "metadata": {
        "id": "D0loK11HVfUJ"
      },
      "source": [
        "## 🎬 Step 7: Test the Recommender\n",
        "Let’s test the recommender with a few example movies to see the results."
      ],
      "id": "D0loK11HVfUJ"
    },
    {
      "cell_type": "code",
      "execution_count": 8,
      "metadata": {
        "colab": {
          "base_uri": "https://localhost:8080/"
        },
        "id": "tAk4Fmp3VfUJ",
        "outputId": "5e29804b-ded3-43c6-e667-dab06cac32b7"
      },
      "outputs": [
        {
          "output_type": "stream",
          "name": "stdout",
          "text": [
            "\n",
            "If you liked 'Toy Story (1995)', you might also like:\n",
            "                                               title  \\\n",
            "1706                                     Antz (1998)   \n",
            "2355                              Toy Story 2 (1999)   \n",
            "2809  Adventures of Rocky and Bullwinkle, The (2000)   \n",
            "3000                Emperor's New Groove, The (2000)   \n",
            "3568                           Monsters, Inc. (2001)   \n",
            "\n",
            "                                           genres  \n",
            "1706  Adventure|Animation|Children|Comedy|Fantasy  \n",
            "2355  Adventure|Animation|Children|Comedy|Fantasy  \n",
            "2809  Adventure|Animation|Children|Comedy|Fantasy  \n",
            "3000  Adventure|Animation|Children|Comedy|Fantasy  \n",
            "3568  Adventure|Animation|Children|Comedy|Fantasy  \n",
            "\n",
            "If you liked 'Pulp Fiction (1994)', you might also like:\n",
            "                                                  title  \\\n",
            "520                                        Fargo (1996)   \n",
            "791                                      Freeway (1996)   \n",
            "2453  Man Bites Dog (C'est arrivé près de chez vous)...   \n",
            "3155                         Beautiful Creatures (2000)   \n",
            "4169             Confessions of a Dangerous Mind (2002)   \n",
            "\n",
            "                           genres  \n",
            "520   Comedy|Crime|Drama|Thriller  \n",
            "791   Comedy|Crime|Drama|Thriller  \n",
            "2453  Comedy|Crime|Drama|Thriller  \n",
            "3155  Comedy|Crime|Drama|Thriller  \n",
            "4169  Comedy|Crime|Drama|Thriller  \n"
          ]
        }
      ],
      "source": [
        "# Test recommendations for a few movies\n",
        "test_movies = ['Toy Story (1995)', 'Pulp Fiction (1994)']\n",
        "for movie in test_movies:\n",
        "    print(f\"\\nIf you liked '{movie}', you might also like:\")\n",
        "    recommendations = recommend_movies(movie, n=5)\n",
        "    if isinstance(recommendations, str):\n",
        "        print(recommendations)\n",
        "    else:\n",
        "        print(recommendations)"
      ],
      "id": "tAk4Fmp3VfUJ"
    },
    {
      "cell_type": "markdown",
      "metadata": {
        "id": "XmJhGRXGVfUJ"
      },
      "source": [
        "## 📊 Step 8: Evaluate the Recommender\n",
        "We’ll evaluate the recommender using **Precision@K**, **Recall@K**, and **F1-Score@K** based on predefined user preferences. These metrics measure how well the recommendations match known relevant movies.\n",
        "\n",
        "### Metrics Definitions\n",
        "- **Precision@K**: Proportion of recommended movies that are relevant\n",
        "- **Recall@K**: Proportion of relevant movies that are recommended\n",
        "- **F1-Score@K**: Harmonic mean of Precision@K and Recall@K\n"
      ],
      "id": "XmJhGRXGVfUJ"
    },
    {
      "cell_type": "code",
      "execution_count": 9,
      "metadata": {
        "colab": {
          "base_uri": "https://localhost:8080/"
        },
        "id": "XjlqzQHkVfUJ",
        "outputId": "958a8022-8c5f-4884-84d3-22aaa8d07d14"
      },
      "outputs": [
        {
          "output_type": "stream",
          "name": "stdout",
          "text": [
            "Toy Story (1995) → Precision@5 = 0.40, Recall@5 = 0.50, F1-Score@5 = 0.44\n",
            "Pulp Fiction (1994) → Precision@5 = 0.00, Recall@5 = 0.00, F1-Score@5 = 0.00\n"
          ]
        }
      ],
      "source": [
        "# Define user preferences for evaluation\n",
        "user_ratings = {\n",
        "    'Toy Story (1995)': ['Toy Story 2 (1999)', 'Monsters, Inc. (2001)', 'A Bug\\'s Life (1998)', 'Finding Nemo (2003)'],\n",
        "    'Pulp Fiction (1994)': ['Reservoir Dogs (1992)', 'Jackie Brown (1997)', 'Goodfellas (1990)', 'Kill Bill: Volume 1 (2003)']\n",
        "}\n",
        "\n",
        "def evaluate_recommendations(title, k=5):\n",
        "    \"\"\"Compute Precision@K, Recall@K, and F1-Score@K.\"\"\"\n",
        "    recs = recommend_movies(title, n=k)\n",
        "    relevant = user_ratings.get(title, [])\n",
        "    if isinstance(recs, str) or not relevant:\n",
        "        return 0, 0, 0\n",
        "    recs = list(recs['title'])\n",
        "    true_positives = len(set(recs[:k]) & set(relevant))\n",
        "    precision = true_positives / k\n",
        "    recall = true_positives / len(relevant)\n",
        "    f1 = (2 * precision * recall) / (precision + recall) if (precision + recall) > 0 else 0\n",
        "    return precision, recall, f1\n",
        "\n",
        "# Evaluate for each movie\n",
        "for movie in user_ratings.keys():\n",
        "    p, r, f1 = evaluate_recommendations(movie)\n",
        "    print(f\"{movie} → Precision@5 = {p:.2f}, Recall@5 = {r:.2f}, F1-Score@5 = {f1:.2f}\")"
      ],
      "id": "XjlqzQHkVfUJ"
    },
    {
      "cell_type": "markdown",
      "metadata": {
        "id": "JL-rJldYVfUJ"
      },
      "source": [
        "## 📈 Step 9: Visualize Similarity Scores\n",
        "We’ll create visualizations to understand the distribution of similarity scores and the top similar movies for a given title.\n",
        "\n",
        "### Visualizations\n",
        "1. **Bar Plot**: Top similar movies with their similarity scores\n",
        "2. **Heatmap**: Similarity matrix for a subset of movies\n"
      ],
      "id": "JL-rJldYVfUJ"
    },
    {
      "cell_type": "code",
      "execution_count": 10,
      "metadata": {
        "colab": {
          "base_uri": "https://localhost:8080/",
          "height": 1000
        },
        "id": "MvACzDzdVfUJ",
        "outputId": "b432d85c-9b9d-43f3-93f7-234788fb205c"
      },
      "outputs": [
        {
          "output_type": "stream",
          "name": "stderr",
          "text": [
            "/tmp/ipython-input-3190586909.py:12: FutureWarning: \n",
            "\n",
            "Passing `palette` without assigning `hue` is deprecated and will be removed in v0.14.0. Assign the `y` variable to `hue` and set `legend=False` for the same effect.\n",
            "\n",
            "  sns.barplot(x=scores, y=titles, palette='crest')\n"
          ]
        },
        {
          "output_type": "display_data",
          "data": {
            "text/plain": [
              "<Figure size 1000x500 with 1 Axes>"
            ],
            "image/png": "[encoded data removed]"
          },
          "metadata": {}
        },
        {
          "output_type": "display_data",
          "data": {
            "text/plain": [
              "<Figure size 800x600 with 2 Axes>"
            ],
            "image/png": "[encoded data removed]"
          },
          "metadata": {}
        }
      ],
      "source": [
        "# Bar plot for top similar movies\n",
        "def plot_similarity(title):\n",
        "    if title not in indices:\n",
        "        print(f\"❌ '{title}' not found in dataset.\")\n",
        "        return\n",
        "    idx = indices[title]\n",
        "    sim_scores = list(enumerate(cosine_sim[idx]))\n",
        "    sim_scores = sorted(sim_scores, key=lambda x: x[1], reverse=True)[1:11]\n",
        "    titles = movies['title'].iloc[[i[0] for i in sim_scores]]\n",
        "    scores = [i[1] for i in sim_scores]\n",
        "    plt.figure(figsize=(10, 5))\n",
        "    sns.barplot(x=scores, y=titles, palette='crest')\n",
        "    plt.xlabel('Cosine Similarity')\n",
        "    plt.ylabel('Movie Title')\n",
        "    plt.title(f\"Top 10 Similar Movies to '{title}'\")\n",
        "    plt.tight_layout()\n",
        "    plt.show()\n",
        "\n",
        "# Heatmap for similarity matrix (subset of movies)\n",
        "def plot_similarity_heatmap(titles):\n",
        "    indices_subset = [indices[title] for title in titles if title in indices]\n",
        "    sim_subset = cosine_sim[indices_subset][:, indices_subset]\n",
        "    plt.figure(figsize=(8, 6))\n",
        "    sns.heatmap(sim_subset, xticklabels=titles, yticklabels=titles, cmap='Blues', annot=True, fmt='.2f')\n",
        "    plt.title('Cosine Similarity Heatmap')\n",
        "    plt.tight_layout()\n",
        "    plt.show()\n",
        "\n",
        "# Test visualizations\n",
        "plot_similarity('Toy Story (1995)')\n",
        "plot_similarity_heatmap(['Toy Story (1995)', 'Pulp Fiction (1994)', 'The Matrix (1999)'])"
      ],
      "id": "MvACzDzdVfUJ"
    },
    {
      "cell_type": "markdown",
      "source": [
        "## 🎯 Additional Section: Comparing Genre-Based vs TF-IDF Models\n",
        "\n",
        "In this final section, we compare two different **content-based recommendation approaches**:\n",
        "\n",
        "1. **Genre-Based Model (Simple)**  \n",
        "   - Uses binary encoding of movie genres (e.g., Action, Comedy, Drama).  \n",
        "   - Computes cosine similarity between these one-hot encoded genre vectors.  \n",
        "   - Recommends movies that share the most overlapping genres.\n",
        "\n",
        "2. **TF-IDF-Based Model (Advanced)**  \n",
        "   - Uses the TF-IDF matrix we built earlier to capture *textual importance* of each genre term.  \n",
        "   - Allows more nuanced weighting — rarer genres contribute more to similarity.  \n",
        "   - Produces more diverse and semantically meaningful recommendations.\n",
        "\n",
        "---\n",
        "\n",
        "### 🔍 What the Code Does\n",
        "\n",
        "1. **Builds a Genre Similarity Matrix**  \n",
        "   - Converts genres into lists and applies `MultiLabelBinarizer()` to create a binary genre matrix.  \n",
        "   - Uses cosine similarity to compute pairwise similarity between all movies.\n",
        "\n",
        "2. **Generates Top-5 Recommendations**  \n",
        "   - Uses both the **Genre-Based** and **TF-IDF-Based** similarity matrices to find top-5 similar movies for a sample title (`\"Toy Story (1995)\"`).\n",
        "\n",
        "3. **Evaluates with Precision@K and Recall@K**  \n",
        "   - Defines a small *relevant set* of movies (e.g., `\"Toy Story 2\"`, `\"Monsters, Inc.\"`, `\"A Bug’s Life\"`).  \n",
        "   - Calculates:\n",
        "     - **Precision@K** → how many of the top-5 recommended movies are relevant.  \n",
        "     - **Recall@K** → how many of the relevant movies appear in the top-5 list.\n",
        "\n",
        "4. **Visualizes Model Comparison**  \n",
        "   - Displays a bar chart comparing **Precision@5** and **Recall@5** for both models.  \n",
        "   - Shows which approach performs better in capturing meaningful relationships.\n",
        "\n",
        "---\n",
        "\n",
        "### 📈 Expected Output\n",
        "\n",
        "You’ll see:\n",
        "- Two printed Top-5 recommendation lists (Genre-Based vs TF-IDF-Based).  \n",
        "- Calculated Precision@5 and Recall@5 scores.  \n",
        "- A clear **comparison plot** showing the difference between the two models.\n",
        "\n",
        "**Interpretation:**\n",
        "- The **Genre-Based model** is simpler but limited by exact genre overlap.  \n",
        "- The **TF-IDF model** is more flexible, capturing nuanced relationships between genres and producing more semantically aligned recommendations.\n"
      ],
      "metadata": {
        "id": "aOiENwJn1QS9"
      },
      "id": "aOiENwJn1QS9"
    },
    {
      "cell_type": "code",
      "source": [
        "# ===============================================================\n",
        "# 🎯 Additional Section: Compare Genre-Based vs. TF-IDF Models\n",
        "# ===============================================================\n",
        "\n",
        "print(\"🔍 Comparing Genre-Based vs TF-IDF-Based Recommendation Models\")\n",
        "\n",
        "# Step 1: Create a simple Genre-Based Similarity (binary)\n",
        "from sklearn.preprocessing import MultiLabelBinarizer\n",
        "from sklearn.metrics.pairwise import cosine_similarity\n",
        "\n",
        "# Split genres into lists\n",
        "movies['genres_list'] = movies['genres'].apply(lambda x: x.split('|') if isinstance(x, str) else [])\n",
        "\n",
        "mlb = MultiLabelBinarizer()\n",
        "genre_matrix = mlb.fit_transform(movies['genres_list'])\n",
        "genre_sim = cosine_similarity(genre_matrix, genre_matrix)\n",
        "\n",
        "print(f\"✅ Genre-based similarity matrix created with shape: {genre_sim.shape}\")\n",
        "\n",
        "# Step 2: Define a helper to get top-5 recommendations\n",
        "def get_top_n_recommendations(title, sim_matrix, n=5):\n",
        "    idx = indices[title]\n",
        "    sim_scores = list(enumerate(sim_matrix[idx]))\n",
        "    sim_scores = sorted(sim_scores, key=lambda x: x[1], reverse=True)\n",
        "    sim_scores = sim_scores[1:n+1]\n",
        "    movie_indices = [i[0] for i in sim_scores]\n",
        "    return movies['title'].iloc[movie_indices]\n",
        "\n",
        "# Step 3: Choose a sample movie for comparison\n",
        "sample_movie = \"Toy Story (1995)\"\n",
        "\n",
        "print(f\"\\n🎬 Top-5 Genre-Based Recommendations for: {sample_movie}\")\n",
        "print(get_top_n_recommendations(sample_movie, genre_sim))\n",
        "\n",
        "print(f\"\\n🎬 Top-5 TF-IDF-Based Recommendations for: {sample_movie}\")\n",
        "print(get_top_n_recommendations(sample_movie, cosine_sim))\n",
        "\n",
        "# Step 4: Evaluate Precision@K and Recall@K\n",
        "print(\"\\n📊 Evaluating Recommendation Models\")\n",
        "\n",
        "# Define small relevance set for demonstration\n",
        "user_relevant = ['Toy Story 2 (1999)', 'A Bug\\'s Life (1998)', 'Monsters, Inc. (2001)']\n",
        "\n",
        "def precision_recall(title, sim_matrix, relevant, k=5):\n",
        "    recs = list(get_top_n_recommendations(title, sim_matrix, n=k))\n",
        "    precision = len(set(recs) & set(relevant)) / k\n",
        "    recall = len(set(recs) & set(relevant)) / len(relevant)\n",
        "    return precision, recall\n",
        "\n",
        "p_genre, r_genre = precision_recall(sample_movie, genre_sim, user_relevant)\n",
        "p_tfidf, r_tfidf = precision_recall(sample_movie, cosine_sim, user_relevant)\n",
        "\n",
        "print(f\"\\nGenre-Based Model → Precision@5 = {p_genre:.2f}, Recall@5 = {r_genre:.2f}\")\n",
        "print(f\"TF-IDF-Based Model → Precision@5 = {p_tfidf:.2f}, Recall@5 = {r_tfidf:.2f}\")\n",
        "\n",
        "# Step 5: Visualize Comparison\n",
        "import matplotlib.pyplot as plt\n",
        "\n",
        "labels = ['Genre-Based', 'TF-IDF-Based']\n",
        "precision_scores = [p_genre, p_tfidf]\n",
        "recall_scores = [r_genre, r_tfidf]\n",
        "\n",
        "plt.figure(figsize=(6,4))\n",
        "plt.bar(labels, precision_scores, alpha=0.7, label='Precision@5', color='teal')\n",
        "plt.bar(labels, recall_scores, alpha=0.7, label='Recall@5', color='orange', bottom=precision_scores)\n",
        "plt.ylabel('Score')\n",
        "plt.title('Model Comparison: Precision@5 & Recall@5')\n",
        "plt.legend()\n",
        "plt.show()\n"
      ],
      "metadata": {
        "colab": {
          "base_uri": "https://localhost:8080/",
          "height": 790
        },
        "id": "rZnmamkyazdM",
        "outputId": "badc0809-8b1a-48f5-e9cf-22a8fce26a22"
      },
      "id": "rZnmamkyazdM",
      "execution_count": 15,
      "outputs": [
        {
          "output_type": "stream",
          "name": "stdout",
          "text": [
            "🔍 Comparing Genre-Based vs TF-IDF-Based Recommendation Models\n",
            "✅ Genre-based similarity matrix created with shape: (9742, 9742)\n",
            "\n",
            "🎬 Top-5 Genre-Based Recommendations for: Toy Story (1995)\n",
            "1706                                       Antz (1998)\n",
            "2355                                Toy Story 2 (1999)\n",
            "2809    Adventures of Rocky and Bullwinkle, The (2000)\n",
            "3000                  Emperor's New Groove, The (2000)\n",
            "3568                             Monsters, Inc. (2001)\n",
            "Name: title, dtype: object\n",
            "\n",
            "🎬 Top-5 TF-IDF-Based Recommendations for: Toy Story (1995)\n",
            "1706                                       Antz (1998)\n",
            "2355                                Toy Story 2 (1999)\n",
            "2809    Adventures of Rocky and Bullwinkle, The (2000)\n",
            "3000                  Emperor's New Groove, The (2000)\n",
            "3568                             Monsters, Inc. (2001)\n",
            "Name: title, dtype: object\n",
            "\n",
            "📊 Evaluating Recommendation Models\n",
            "\n",
            "Genre-Based Model → Precision@5 = 0.40, Recall@5 = 0.67\n",
            "TF-IDF-Based Model → Precision@5 = 0.40, Recall@5 = 0.67\n"
          ]
        },
        {
          "output_type": "display_data",
          "data": {
            "text/plain": [
              "<Figure size 600x400 with 1 Axes>"
            ],
            "image/png": "[encoded data removed]"
          },
          "metadata": {}
        }
      ]
    }
  ],
  "metadata": {
    "kernelspec": {
      "display_name": "Python 3",
      "language": "python",
      "name": "python3"
    },
    "language_info": {
      "name": "python",
      "version": "3.10"
    },
    "colab": {
      "provenance": [],
      "include_colab_link": true
    }
  },
  "nbformat": 4,
  "nbformat_minor": 5
}