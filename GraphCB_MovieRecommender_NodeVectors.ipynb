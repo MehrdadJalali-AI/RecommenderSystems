{
  "cells": [
    {
      "cell_type": "markdown",
      "metadata": {
        "id": "view-in-github",
        "colab_type": "text"
      },
      "source": [
        "<a href=\"https://colab.research.google.com/github/MehrdadJalali-AI/RecommenderSystems/blob/main/GraphCB_MovieRecommender_NodeVectors.ipynb\" target=\"_parent\"><img src=\"https://colab.research.google.com/assets/colab-badge.svg\" alt=\"Open In Colab\"/></a>"
      ]
    },
    {
      "cell_type": "markdown",
      "id": "73bc19d9",
      "metadata": {
        "id": "73bc19d9"
      },
      "source": [
        "\n",
        "# 🧩 Graph-Based Movie Recommender System (Colab-Compatible with nodevectors)\n",
        "**Professor Dr. Mehrdad Jalali**  \n",
        "SRH University Heidelberg  \n",
        "\n",
        "This notebook demonstrates a **graph-based content recommender** using **Node2Vec** from the `nodevectors` library.  \n",
        "It builds a movie similarity graph based on genres, learns embeddings for each node, and visualizes clusters of related movies.\n",
        "\n",
        "---\n",
        "\n",
        "## 🎯 Objectives\n",
        "- Represent movies as **nodes** and connect them by **genre similarity**\n",
        "- Learn **graph embeddings** using `Node2Vec` (`nodevectors`)\n",
        "- Recommend similar movies based on **embedding similarity**\n",
        "- Visualize graph clusters for interpretability\n",
        "\n",
        "**Learning Links:** Slides 45–47 (Graph-Based CB Models and GNNs)\n"
      ]
    },
    {
      "cell_type": "code",
      "execution_count": 2,
      "id": "43810e00",
      "metadata": {
        "colab": {
          "base_uri": "https://localhost:8080/"
        },
        "id": "43810e00",
        "outputId": "cc987281-6365-498d-cc11-1cfcaf38e068"
      },
      "outputs": [
        {
          "output_type": "stream",
          "name": "stdout",
          "text": [
            "  Preparing metadata (setup.py) ... \u001b[?25l\u001b[?25hdone\n",
            "\u001b[2K   \u001b[90m━━━━━━━━━━━━━━━━━━━━━━━━━━━━━━━━━━━━━━━━\u001b[0m \u001b[32m1.6/1.6 MB\u001b[0m \u001b[31m24.0 MB/s\u001b[0m eta \u001b[36m0:00:00\u001b[0m\n",
            "\u001b[2K   \u001b[90m━━━━━━━━━━━━━━━━━━━━━━━━━━━━━━━━━━━━━━━━\u001b[0m \u001b[32m27.9/27.9 MB\u001b[0m \u001b[31m51.8 MB/s\u001b[0m eta \u001b[36m0:00:00\u001b[0m\n",
            "\u001b[?25h  Building wheel for csrgraph (setup.py) ... \u001b[?25l\u001b[?25hdone\n",
            "\u001b[31mERROR: pip's dependency resolver does not currently take into account all the packages that are installed. This behaviour is the source of the following dependency conflicts.\n",
            "nx-cugraph-cu12 25.6.0 requires networkx>=3.2, but you have networkx 2.5.1 which is incompatible.\n",
            "scikit-image 0.25.2 requires networkx>=3.0, but you have networkx 2.5.1 which is incompatible.\u001b[0m\u001b[31m\n",
            "\u001b[0m"
          ]
        }
      ],
      "source": [
        "\n",
        "!pip install -q pandas scikit-learn networkx matplotlib seaborn nodevectors\n"
      ]
    },
    {
      "cell_type": "code",
      "execution_count": 3,
      "id": "54ef3e1f",
      "metadata": {
        "id": "54ef3e1f"
      },
      "outputs": [],
      "source": [
        "\n",
        "import pandas as pd\n",
        "import numpy as np\n",
        "import networkx as nx\n",
        "import matplotlib.pyplot as plt\n",
        "import seaborn as sns\n",
        "from nodevectors import Node2Vec\n",
        "from sklearn.metrics.pairwise import cosine_similarity\n",
        "from sklearn.preprocessing import MultiLabelBinarizer\n",
        "from networkx.algorithms import community\n"
      ]
    },
    {
      "cell_type": "markdown",
      "id": "a71be2db",
      "metadata": {
        "id": "a71be2db"
      },
      "source": [
        "\n",
        "## 📂 Load MovieLens Dataset\n",
        "We reuse the **MovieLens** dataset used in the TF-IDF and SBERT practicals.\n"
      ]
    },
    {
      "cell_type": "code",
      "execution_count": 4,
      "id": "58a40f8f",
      "metadata": {
        "colab": {
          "base_uri": "https://localhost:8080/",
          "height": 206
        },
        "id": "58a40f8f",
        "outputId": "5ac417fa-78ce-4569-b962-05ba75ec6e5a"
      },
      "outputs": [
        {
          "output_type": "execute_result",
          "data": {
            "text/plain": [
              "   movieId                               title  \\\n",
              "0        1                    Toy Story (1995)   \n",
              "1        2                      Jumanji (1995)   \n",
              "2        3             Grumpier Old Men (1995)   \n",
              "3        4            Waiting to Exhale (1995)   \n",
              "4        5  Father of the Bride Part II (1995)   \n",
              "\n",
              "                                        genres  \n",
              "0  Adventure|Animation|Children|Comedy|Fantasy  \n",
              "1                   Adventure|Children|Fantasy  \n",
              "2                               Comedy|Romance  \n",
              "3                         Comedy|Drama|Romance  \n",
              "4                                       Comedy  "
            ],
            "text/html": [
              "\n",
              "  <div id=\"df-c3f7192e-0c88-4bab-9e3f-262d9dd9a9f6\" class=\"colab-df-container\">\n",
              "    <div>\n",
              "<style scoped>\n",
              "    .dataframe tbody tr th:only-of-type {\n",
              "        vertical-align: middle;\n",
              "    }\n",
              "\n",
              "    .dataframe tbody tr th {\n",
              "        vertical-align: top;\n",
              "    }\n",
              "\n",
              "    .dataframe thead th {\n",
              "        text-align: right;\n",
              "    }\n",
              "</style>\n",
              "<table border=\"1\" class=\"dataframe\">\n",
              "  <thead>\n",
              "    <tr style=\"text-align: right;\">\n",
              "      <th></th>\n",
              "      <th>movieId</th>\n",
              "      <th>title</th>\n",
              "      <th>genres</th>\n",
              "    </tr>\n",
              "  </thead>\n",
              "  <tbody>\n",
              "    <tr>\n",
              "      <th>0</th>\n",
              "      <td>1</td>\n",
              "      <td>Toy Story (1995)</td>\n",
              "      <td>Adventure|Animation|Children|Comedy|Fantasy</td>\n",
              "    </tr>\n",
              "    <tr>\n",
              "      <th>1</th>\n",
              "      <td>2</td>\n",
              "      <td>Jumanji (1995)</td>\n",
              "      <td>Adventure|Children|Fantasy</td>\n",
              "    </tr>\n",
              "    <tr>\n",
              "      <th>2</th>\n",
              "      <td>3</td>\n",
              "      <td>Grumpier Old Men (1995)</td>\n",
              "      <td>Comedy|Romance</td>\n",
              "    </tr>\n",
              "    <tr>\n",
              "      <th>3</th>\n",
              "      <td>4</td>\n",
              "      <td>Waiting to Exhale (1995)</td>\n",
              "      <td>Comedy|Drama|Romance</td>\n",
              "    </tr>\n",
              "    <tr>\n",
              "      <th>4</th>\n",
              "      <td>5</td>\n",
              "      <td>Father of the Bride Part II (1995)</td>\n",
              "      <td>Comedy</td>\n",
              "    </tr>\n",
              "  </tbody>\n",
              "</table>\n",
              "</div>\n",
              "    <div class=\"colab-df-buttons\">\n",
              "\n",
              "  <div class=\"colab-df-container\">\n",
              "    <button class=\"colab-df-convert\" onclick=\"convertToInteractive('df-c3f7192e-0c88-4bab-9e3f-262d9dd9a9f6')\"\n",
              "            title=\"Convert this dataframe to an interactive table.\"\n",
              "            style=\"display:none;\">\n",
              "\n",
              "  <svg xmlns=\"http://www.w3.org/2000/svg\" height=\"24px\" viewBox=\"0 -960 960 960\">\n",
              "    <path d=\"M120-120v-720h720v720H120Zm60-500h600v-160H180v160Zm220 220h160v-160H400v160Zm0 220h160v-160H400v160ZM180-400h160v-160H180v160Zm440 0h160v-160H620v160ZM180-180h160v-160H180v160Zm440 0h160v-160H620v160Z\"/>\n",
              "  </svg>\n",
              "    </button>\n",
              "\n",
              "  <style>\n",
              "    .colab-df-container {\n",
              "      display:flex;\n",
              "      gap: 12px;\n",
              "    }\n",
              "\n",
              "    .colab-df-convert {\n",
              "      background-color: #E8F0FE;\n",
              "      border: none;\n",
              "      border-radius: 50%;\n",
              "      cursor: pointer;\n",
              "      display: none;\n",
              "      fill: #1967D2;\n",
              "      height: 32px;\n",
              "      padding: 0 0 0 0;\n",
              "      width: 32px;\n",
              "    }\n",
              "\n",
              "    .colab-df-convert:hover {\n",
              "      background-color: #E2EBFA;\n",
              "      box-shadow: 0px 1px 2px rgba(60, 64, 67, 0.3), 0px 1px 3px 1px rgba(60, 64, 67, 0.15);\n",
              "      fill: #174EA6;\n",
              "    }\n",
              "\n",
              "    .colab-df-buttons div {\n",
              "      margin-bottom: 4px;\n",
              "    }\n",
              "\n",
              "    [theme=dark] .colab-df-convert {\n",
              "      background-color: #3B4455;\n",
              "      fill: #D2E3FC;\n",
              "    }\n",
              "\n",
              "    [theme=dark] .colab-df-convert:hover {\n",
              "      background-color: #434B5C;\n",
              "      box-shadow: 0px 1px 3px 1px rgba(0, 0, 0, 0.15);\n",
              "      filter: drop-shadow(0px 1px 2px rgba(0, 0, 0, 0.3));\n",
              "      fill: #FFFFFF;\n",
              "    }\n",
              "  </style>\n",
              "\n",
              "    <script>\n",
              "      const buttonEl =\n",
              "        document.querySelector('#df-c3f7192e-0c88-4bab-9e3f-262d9dd9a9f6 button.colab-df-convert');\n",
              "      buttonEl.style.display =\n",
              "        google.colab.kernel.accessAllowed ? 'block' : 'none';\n",
              "\n",
              "      async function convertToInteractive(key) {\n",
              "        const element = document.querySelector('#df-c3f7192e-0c88-4bab-9e3f-262d9dd9a9f6');\n",
              "        const dataTable =\n",
              "          await google.colab.kernel.invokeFunction('convertToInteractive',\n",
              "                                                    [key], {});\n",
              "        if (!dataTable) return;\n",
              "\n",
              "        const docLinkHtml = 'Like what you see? Visit the ' +\n",
              "          '<a target=\"_blank\" href=https://colab.research.google.com/notebooks/data_table.ipynb>data table notebook</a>'\n",
              "          + ' to learn more about interactive tables.';\n",
              "        element.innerHTML = '';\n",
              "        dataTable['output_type'] = 'display_data';\n",
              "        await google.colab.output.renderOutput(dataTable, element);\n",
              "        const docLink = document.createElement('div');\n",
              "        docLink.innerHTML = docLinkHtml;\n",
              "        element.appendChild(docLink);\n",
              "      }\n",
              "    </script>\n",
              "  </div>\n",
              "\n",
              "\n",
              "    <div id=\"df-c06a7008-353c-4013-a636-07583cb7585c\">\n",
              "      <button class=\"colab-df-quickchart\" onclick=\"quickchart('df-c06a7008-353c-4013-a636-07583cb7585c')\"\n",
              "                title=\"Suggest charts\"\n",
              "                style=\"display:none;\">\n",
              "\n",
              "<svg xmlns=\"http://www.w3.org/2000/svg\" height=\"24px\"viewBox=\"0 0 24 24\"\n",
              "     width=\"24px\">\n",
              "    <g>\n",
              "        <path d=\"M19 3H5c-1.1 0-2 .9-2 2v14c0 1.1.9 2 2 2h14c1.1 0 2-.9 2-2V5c0-1.1-.9-2-2-2zM9 17H7v-7h2v7zm4 0h-2V7h2v10zm4 0h-2v-4h2v4z\"/>\n",
              "    </g>\n",
              "</svg>\n",
              "      </button>\n",
              "\n",
              "<style>\n",
              "  .colab-df-quickchart {\n",
              "      --bg-color: #E8F0FE;\n",
              "      --fill-color: #1967D2;\n",
              "      --hover-bg-color: #E2EBFA;\n",
              "      --hover-fill-color: #174EA6;\n",
              "      --disabled-fill-color: #AAA;\n",
              "      --disabled-bg-color: #DDD;\n",
              "  }\n",
              "\n",
              "  [theme=dark] .colab-df-quickchart {\n",
              "      --bg-color: #3B4455;\n",
              "      --fill-color: #D2E3FC;\n",
              "      --hover-bg-color: #434B5C;\n",
              "      --hover-fill-color: #FFFFFF;\n",
              "      --disabled-bg-color: #3B4455;\n",
              "      --disabled-fill-color: #666;\n",
              "  }\n",
              "\n",
              "  .colab-df-quickchart {\n",
              "    background-color: var(--bg-color);\n",
              "    border: none;\n",
              "    border-radius: 50%;\n",
              "    cursor: pointer;\n",
              "    display: none;\n",
              "    fill: var(--fill-color);\n",
              "    height: 32px;\n",
              "    padding: 0;\n",
              "    width: 32px;\n",
              "  }\n",
              "\n",
              "  .colab-df-quickchart:hover {\n",
              "    background-color: var(--hover-bg-color);\n",
              "    box-shadow: 0 1px 2px rgba(60, 64, 67, 0.3), 0 1px 3px 1px rgba(60, 64, 67, 0.15);\n",
              "    fill: var(--button-hover-fill-color);\n",
              "  }\n",
              "\n",
              "  .colab-df-quickchart-complete:disabled,\n",
              "  .colab-df-quickchart-complete:disabled:hover {\n",
              "    background-color: var(--disabled-bg-color);\n",
              "    fill: var(--disabled-fill-color);\n",
              "    box-shadow: none;\n",
              "  }\n",
              "\n",
              "  .colab-df-spinner {\n",
              "    border: 2px solid var(--fill-color);\n",
              "    border-color: transparent;\n",
              "    border-bottom-color: var(--fill-color);\n",
              "    animation:\n",
              "      spin 1s steps(1) infinite;\n",
              "  }\n",
              "\n",
              "  @keyframes spin {\n",
              "    0% {\n",
              "      border-color: transparent;\n",
              "      border-bottom-color: var(--fill-color);\n",
              "      border-left-color: var(--fill-color);\n",
              "    }\n",
              "    20% {\n",
              "      border-color: transparent;\n",
              "      border-left-color: var(--fill-color);\n",
              "      border-top-color: var(--fill-color);\n",
              "    }\n",
              "    30% {\n",
              "      border-color: transparent;\n",
              "      border-left-color: var(--fill-color);\n",
              "      border-top-color: var(--fill-color);\n",
              "      border-right-color: var(--fill-color);\n",
              "    }\n",
              "    40% {\n",
              "      border-color: transparent;\n",
              "      border-right-color: var(--fill-color);\n",
              "      border-top-color: var(--fill-color);\n",
              "    }\n",
              "    60% {\n",
              "      border-color: transparent;\n",
              "      border-right-color: var(--fill-color);\n",
              "    }\n",
              "    80% {\n",
              "      border-color: transparent;\n",
              "      border-right-color: var(--fill-color);\n",
              "      border-bottom-color: var(--fill-color);\n",
              "    }\n",
              "    90% {\n",
              "      border-color: transparent;\n",
              "      border-bottom-color: var(--fill-color);\n",
              "    }\n",
              "  }\n",
              "</style>\n",
              "\n",
              "      <script>\n",
              "        async function quickchart(key) {\n",
              "          const quickchartButtonEl =\n",
              "            document.querySelector('#' + key + ' button');\n",
              "          quickchartButtonEl.disabled = true;  // To prevent multiple clicks.\n",
              "          quickchartButtonEl.classList.add('colab-df-spinner');\n",
              "          try {\n",
              "            const charts = await google.colab.kernel.invokeFunction(\n",
              "                'suggestCharts', [key], {});\n",
              "          } catch (error) {\n",
              "            console.error('Error during call to suggestCharts:', error);\n",
              "          }\n",
              "          quickchartButtonEl.classList.remove('colab-df-spinner');\n",
              "          quickchartButtonEl.classList.add('colab-df-quickchart-complete');\n",
              "        }\n",
              "        (() => {\n",
              "          let quickchartButtonEl =\n",
              "            document.querySelector('#df-c06a7008-353c-4013-a636-07583cb7585c button');\n",
              "          quickchartButtonEl.style.display =\n",
              "            google.colab.kernel.accessAllowed ? 'block' : 'none';\n",
              "        })();\n",
              "      </script>\n",
              "    </div>\n",
              "\n",
              "    </div>\n",
              "  </div>\n"
            ],
            "application/vnd.google.colaboratory.intrinsic+json": {
              "type": "dataframe",
              "variable_name": "movies",
              "summary": "{\n  \"name\": \"movies\",\n  \"rows\": 9742,\n  \"fields\": [\n    {\n      \"column\": \"movieId\",\n      \"properties\": {\n        \"dtype\": \"number\",\n        \"std\": 52160,\n        \"min\": 1,\n        \"max\": 193609,\n        \"num_unique_values\": 9742,\n        \"samples\": [\n          45635,\n          1373,\n          7325\n        ],\n        \"semantic_type\": \"\",\n        \"description\": \"\"\n      }\n    },\n    {\n      \"column\": \"title\",\n      \"properties\": {\n        \"dtype\": \"string\",\n        \"num_unique_values\": 9737,\n        \"samples\": [\n          \"Teenage Mutant Ninja Turtles (2014)\",\n          \"America's Sweethearts (2001)\",\n          \"Cast Away (2000)\"\n        ],\n        \"semantic_type\": \"\",\n        \"description\": \"\"\n      }\n    },\n    {\n      \"column\": \"genres\",\n      \"properties\": {\n        \"dtype\": \"category\",\n        \"num_unique_values\": 951,\n        \"samples\": [\n          \"Crime|Mystery|Romance|Thriller\",\n          \"Action|Adventure|Comedy|Western\",\n          \"Crime|Drama|Musical\"\n        ],\n        \"semantic_type\": \"\",\n        \"description\": \"\"\n      }\n    }\n  ]\n}"
            }
          },
          "metadata": {},
          "execution_count": 4
        }
      ],
      "source": [
        "\n",
        "# Load MovieLens metadata\n",
        "movies_url = \"https://raw.githubusercontent.com/MehrdadJalali-AI/RecommenderSystems/main/Datasets/ml-latest-small/movies.csv\"\n",
        "movies = pd.read_csv(movies_url)\n",
        "movies.head()\n"
      ]
    },
    {
      "cell_type": "markdown",
      "id": "83b6b3d3",
      "metadata": {
        "id": "83b6b3d3"
      },
      "source": [
        "\n",
        "## 🔧 Data Preprocessing\n",
        "We split genres into lists, encode them, and compute pairwise **genre similarity** to form graph edges.\n"
      ]
    },
    {
      "cell_type": "code",
      "execution_count": 5,
      "id": "bf216a32",
      "metadata": {
        "colab": {
          "base_uri": "https://localhost:8080/"
        },
        "id": "bf216a32",
        "outputId": "2964109e-c486-446c-853f-ec201ee14b70"
      },
      "outputs": [
        {
          "output_type": "execute_result",
          "data": {
            "text/plain": [
              "6458958"
            ]
          },
          "metadata": {},
          "execution_count": 5
        }
      ],
      "source": [
        "\n",
        "movies[\"genres\"] = movies[\"genres\"].fillna(\"\").apply(lambda x: x.split(\"|\"))\n",
        "mlb = MultiLabelBinarizer()\n",
        "genre_matrix = mlb.fit_transform(movies[\"genres\"])\n",
        "\n",
        "# Compute cosine similarity\n",
        "sim_matrix = cosine_similarity(genre_matrix)\n",
        "\n",
        "# Create edges for similarity > 0.6\n",
        "edges = []\n",
        "threshold = 0.6\n",
        "for i in range(len(movies)):\n",
        "    for j in range(i + 1, len(movies)):\n",
        "        if sim_matrix[i, j] > threshold:\n",
        "            edges.append((movies.iloc[i][\"movieId\"], movies.iloc[j][\"movieId\"], sim_matrix[i, j]))\n",
        "\n",
        "len(edges)\n"
      ]
    },
    {
      "cell_type": "markdown",
      "id": "d5703655",
      "metadata": {
        "id": "d5703655"
      },
      "source": [
        "\n",
        "## 🕸️ Build Movie Graph\n",
        "Nodes represent movies; edges connect movies with **high genre similarity (> 0.6)**.\n"
      ]
    },
    {
      "cell_type": "code",
      "execution_count": 7,
      "id": "749d87b7",
      "metadata": {
        "colab": {
          "base_uri": "https://localhost:8080/"
        },
        "id": "749d87b7",
        "outputId": "af45086f-6090-43be-cfd3-756c26108c85"
      },
      "outputs": [
        {
          "output_type": "stream",
          "name": "stdout",
          "text": [
            "Graph Information:\n",
            "Type: Graph\n",
            "Number of nodes: 9742\n",
            "Number of edges: 6458958\n",
            "Is directed: False\n",
            "\n",
            "Sample nodes with attributes:\n",
            "  1: {'title': 'Toy Story (1995)'}\n",
            "  2: {'title': 'Jumanji (1995)'}\n",
            "  3: {'title': 'Grumpier Old Men (1995)'}\n",
            "  4: {'title': 'Waiting to Exhale (1995)'}\n",
            "  5: {'title': 'Father of the Bride Part II (1995)'}\n",
            "\n",
            "Sample edges with weights:\n",
            "  (1, 2) weight=0.7745966692414835\n",
            "  (1, 8) weight=0.6324555320336758\n",
            "  (1, 13) weight=0.7745966692414835\n",
            "  (1, 38) weight=0.6324555320336758\n",
            "  (1, 54) weight=0.6324555320336758\n"
          ]
        }
      ],
      "source": [
        "import networkx as nx\n",
        "import pandas as pd\n",
        "\n",
        "G = nx.Graph()\n",
        "\n",
        "for _, row in movies.iterrows():\n",
        "    G.add_node(row[\"movieId\"], title=row[\"title\"])\n",
        "\n",
        "G.add_weighted_edges_from(edges)\n",
        "\n",
        "# Replacement for nx.info(G)\n",
        "print(\"Graph Information:\")\n",
        "print(f\"Type: {type(G).__name__}\")\n",
        "print(f\"Number of nodes: {G.number_of_nodes()}\")\n",
        "print(f\"Number of edges: {G.number_of_edges()}\")\n",
        "print(f\"Is directed: {G.is_directed()}\")\n",
        "\n",
        "# Optional: show first few nodes and edges\n",
        "print(\"\\nSample nodes with attributes:\")\n",
        "for n, data in list(G.nodes(data=True))[:5]:\n",
        "    print(f\"  {n}: {data}\")\n",
        "\n",
        "print(\"\\nSample edges with weights:\")\n",
        "for u, v, data in list(G.edges(data=True))[:5]:\n",
        "    print(f\"  ({u}, {v}) weight={data['weight']}\")\n",
        "\n"
      ]
    },
    {
      "cell_type": "markdown",
      "id": "e019f710",
      "metadata": {
        "id": "e019f710"
      },
      "source": [
        "\n",
        "## 🧠 Learn Node Embeddings using Node2Vec (`nodevectors`)\n",
        "We train a **Node2Vec** model to generate embeddings that represent each movie’s structural relationships.\n"
      ]
    },
    {
      "cell_type": "code",
      "execution_count": 9,
      "id": "72b077dc",
      "metadata": {
        "colab": {
          "base_uri": "https://localhost:8080/"
        },
        "id": "72b077dc",
        "outputId": "0aa891a5-725a-4c39-b608-d3ff15652ee7"
      },
      "outputs": [
        {
          "output_type": "stream",
          "name": "stdout",
          "text": [
            "Making walks... Done, T=7.23\n",
            "Mapping Walk Names... Done, T=0.66\n",
            "Training W2V... WARNING: gensim word2vec version is unoptimizedTry version 3.6 if on windows, versions 3.7 and 3.8 have had issues\n",
            "Done, T=27.38\n",
            "         0         1         2         3         4         5         6   \\\n",
            "1  0.074581 -0.691517  0.503934  1.144015  0.392222 -1.024485  0.296067   \n",
            "2  0.425561 -0.532406  0.306011  1.069532  0.378043 -0.836969  0.236455   \n",
            "3 -0.028990 -0.505689  1.087099  0.769539 -0.353960  0.220619 -0.388630   \n",
            "4  0.148093 -0.341235  1.028980 -0.075293 -0.709053  0.916437 -0.203578   \n",
            "5  0.027396 -0.450212  0.715420  0.821746  0.109638 -0.312724 -0.540615   \n",
            "\n",
            "         7         8         9   ...        54        55        56        57  \\\n",
            "1  1.061395 -0.224074  0.588820  ...  0.142044 -1.593963 -0.700727 -0.238281   \n",
            "2  0.643036 -0.412375  0.406467  ...  0.320993 -1.233227 -0.681986 -0.428023   \n",
            "3  0.514109 -0.300884  0.543346  ...  0.182802 -1.104194 -0.138444 -0.191136   \n",
            "4 -0.260533 -0.695582 -0.181636  ...  0.292939  0.147277  0.373374 -0.162902   \n",
            "5  0.641154  0.215214  0.804546  ... -0.380118 -1.114659 -0.177415 -0.170484   \n",
            "\n",
            "         58        59        60        61        62        63  \n",
            "1  0.698278 -0.011045 -0.212630 -0.575556 -0.433335  0.056435  \n",
            "2  0.846795  0.072735 -0.021894 -0.718669 -0.556745  0.062733  \n",
            "3 -0.391438 -0.351960 -0.770438  0.743612  0.578789 -0.454920  \n",
            "4 -0.754579 -0.465562 -0.917488  1.335624  0.749587 -0.593111  \n",
            "5 -0.281409  0.244579 -0.754042  0.217611  0.315209 -0.127979  \n",
            "\n",
            "[5 rows x 64 columns]\n"
          ]
        }
      ],
      "source": [
        "import gensim\n",
        "\n",
        "# Monkey-patch gensim 4.x to be backward compatible with nodevectors\n",
        "if not hasattr(gensim.models, \"Word2Vec\"):\n",
        "    from gensim.models.word2vec import Word2Vec\n",
        "    gensim.models.Word2Vec = Word2Vec\n",
        "\n",
        "orig_init = gensim.models.Word2Vec.__init__\n",
        "\n",
        "def patched_init(self, *args, **kwargs):\n",
        "    # Map old parameter names to new ones\n",
        "    if \"size\" in kwargs and \"vector_size\" not in kwargs:\n",
        "        kwargs[\"vector_size\"] = kwargs.pop(\"size\")\n",
        "    if \"iter\" in kwargs and \"epochs\" not in kwargs:\n",
        "        kwargs[\"epochs\"] = kwargs.pop(\"iter\")\n",
        "    orig_init(self, *args, **kwargs)\n",
        "\n",
        "gensim.models.Word2Vec.__init__ = patched_init\n",
        "\n",
        "\n",
        "# --- rest of your Node2Vec code ---\n",
        "import networkx as nx\n",
        "import pandas as pd\n",
        "from nodevectors import Node2Vec\n",
        "import csrgraph as cg\n",
        "from scipy.sparse import csr_matrix\n",
        "\n",
        "# assuming G is already built\n",
        "adj_array = nx.to_scipy_sparse_array(G, dtype=float)\n",
        "adj_matrix = csr_matrix(adj_array)\n",
        "csr_G = cg.csrgraph(adj_matrix, nodenames=list(G.nodes()))\n",
        "\n",
        "node2vec = Node2Vec(\n",
        "    n_components=64,\n",
        "    walklen=20,\n",
        "    epochs=5,\n",
        "    return_weight=1.0,\n",
        "    neighbor_weight=1.0,\n",
        "    threads=2\n",
        ")\n",
        "node2vec.fit(csr_G)\n",
        "\n",
        "embeddings = node2vec.model.wv\n",
        "embedding_df = pd.DataFrame(\n",
        "    [embeddings[str(node)] for node in G.nodes()],\n",
        "    index=list(G.nodes())\n",
        ")\n",
        "\n",
        "print(embedding_df.head())\n",
        "\n"
      ]
    },
    {
      "cell_type": "markdown",
      "id": "be8c3272",
      "metadata": {
        "id": "be8c3272"
      },
      "source": [
        "\n",
        "## 🎬 Recommend Similar Movies\n",
        "We recommend top-N similar movies using **cosine similarity** between Node2Vec embeddings.\n"
      ]
    },
    {
      "cell_type": "code",
      "execution_count": 11,
      "id": "c6a4c897",
      "metadata": {
        "colab": {
          "base_uri": "https://localhost:8080/"
        },
        "id": "c6a4c897",
        "outputId": "96f6513a-e38b-49ec-c7d7-59301ad9b553"
      },
      "outputs": [
        {
          "output_type": "stream",
          "name": "stdout",
          "text": [
            "\n",
            "🎬 Top 5 similar movies to 'Toy Story (1995)':\n",
            "\n",
            "1. Asterix and the Vikings (Astérix et les Vikings) (2006)  —  similarity: 0.996\n",
            "2. Shrek the Third (2007)  —  similarity: 0.995\n",
            "3. American Tail, An (1986)  —  similarity: 0.994\n",
            "4. Adventures of Rocky and Bullwinkle, The (2000)  —  similarity: 0.994\n",
            "5. Moana (2016)  —  similarity: 0.992\n"
          ]
        },
        {
          "output_type": "execute_result",
          "data": {
            "text/plain": [
              "[('Asterix and the Vikings (Astérix et les Vikings) (2006)', 0.996),\n",
              " ('Shrek the Third (2007)', 0.995),\n",
              " ('American Tail, An (1986)', 0.994),\n",
              " ('Adventures of Rocky and Bullwinkle, The (2000)', 0.994),\n",
              " ('Moana (2016)', 0.992)]"
            ]
          },
          "metadata": {},
          "execution_count": 11
        }
      ],
      "source": [
        "from sklearn.metrics.pairwise import cosine_similarity\n",
        "import pandas as pd\n",
        "\n",
        "# --- Compute cosine similarity matrix\n",
        "embed_sim = cosine_similarity(embedding_df)\n",
        "\n",
        "# --- Helper mappings\n",
        "id_to_idx = {mid: i for i, mid in enumerate(embedding_df.index)}\n",
        "idx_to_id = {i: mid for mid, i in id_to_idx.items()}\n",
        "\n",
        "# --- Recommendation function\n",
        "def recommend_graph(title, top_n=5):\n",
        "    # find movie ID from title\n",
        "    match = movies[movies[\"title\"].str.contains(title, case=False, na=False)]\n",
        "    if match.empty:\n",
        "        print(\"No movie found with that title.\")\n",
        "        return []\n",
        "    movie_id = match.iloc[0][\"movieId\"]\n",
        "\n",
        "    if movie_id not in id_to_idx:\n",
        "        print(\"Movie not found in embedding index.\")\n",
        "        return []\n",
        "\n",
        "    # compute similarities\n",
        "    sim_scores = list(enumerate(embed_sim[id_to_idx[movie_id]]))\n",
        "    sim_scores = sorted(sim_scores, key=lambda x: x[1], reverse=True)[1:top_n+1]\n",
        "\n",
        "    # build clean list of recommendations\n",
        "    recs = []\n",
        "    for i, score in sim_scores:\n",
        "        title = movies.loc[movies[\"movieId\"] == idx_to_id[i], \"title\"].values[0]\n",
        "        recs.append((title, round(float(score), 3)))  # convert np.float32 → float\n",
        "\n",
        "    # pretty print\n",
        "    print(f\"\\n🎬 Top {top_n} similar movies to '{match.iloc[0]['title']}':\\n\")\n",
        "    for rank, (rec_title, sim) in enumerate(recs, start=1):\n",
        "        print(f\"{rank}. {rec_title}  —  similarity: {sim}\")\n",
        "\n",
        "    return recs\n",
        "\n",
        "\n",
        "# --- Example usage\n",
        "recommend_graph(\"Toy Story\")\n",
        "\n"
      ]
    },
    {
      "cell_type": "markdown",
      "id": "f6a41e35",
      "metadata": {
        "id": "f6a41e35"
      },
      "source": [
        "\n",
        "## 🎨 Enhanced Graph Visualization – with Clusters and Labels\n",
        "We visualize a subset of the movie graph, showing clusters of related movies.\n"
      ]
    },
    {
      "cell_type": "code",
      "execution_count": 12,
      "id": "74384186",
      "metadata": {
        "colab": {
          "base_uri": "https://localhost:8080/",
          "height": 788
        },
        "id": "74384186",
        "outputId": "d9352d4f-bcb8-4aea-d40e-dbd2ddf523b0"
      },
      "outputs": [
        {
          "output_type": "stream",
          "name": "stderr",
          "text": [
            "/usr/local/lib/python3.12/dist-packages/IPython/core/pylabtools.py:151: UserWarning: Glyph 127916 (\\N{CLAPPER BOARD}) missing from font(s) DejaVu Sans.\n",
            "  fig.canvas.print_figure(bytes_io, **kw)\n"
          ]
        },
        {
          "output_type": "display_data",
          "data": {
            "text/plain": [
              "<Figure size 1200x900 with 1 Axes>"
            ],
            "image/png": "[encoded data removed]"
          },
          "metadata": {}
        }
      ],
      "source": [
        "\n",
        "# Sample a small connected subgraph for clarity\n",
        "subset_nodes = list(movies.sample(30, random_state=42)[\"movieId\"])\n",
        "subgraph = G.subgraph(subset_nodes).copy()\n",
        "\n",
        "# Compute layout\n",
        "pos = nx.spring_layout(subgraph, seed=42)\n",
        "\n",
        "# Detect communities (clusters)\n",
        "communities = list(community.greedy_modularity_communities(subgraph))\n",
        "color_map = {}\n",
        "for i, com in enumerate(communities):\n",
        "    for node in com:\n",
        "        color_map[node] = i\n",
        "\n",
        "# Assign colors based on clusters\n",
        "node_colors = [color_map.get(node, 0) for node in subgraph.nodes()]\n",
        "\n",
        "# Plot\n",
        "plt.figure(figsize=(12, 9))\n",
        "nx.draw_networkx_nodes(subgraph, pos, node_size=250, cmap=plt.cm.tab10,\n",
        "                       node_color=node_colors, alpha=0.85)\n",
        "nx.draw_networkx_edges(subgraph, pos, alpha=0.3)\n",
        "nx.draw_networkx_labels(subgraph, pos,\n",
        "                        labels={n: movies.loc[movies['movieId']==n, 'title'].values[0][:15] for n in subgraph.nodes()},\n",
        "                        font_size=7)\n",
        "\n",
        "plt.title(\"🎬 Movie Similarity Graph (Clustered View)\", fontsize=14)\n",
        "plt.axis(\"off\")\n",
        "plt.show()\n"
      ]
    },
    {
      "cell_type": "markdown",
      "id": "5371a9a3",
      "metadata": {
        "id": "5371a9a3"
      },
      "source": [
        "\n",
        "## 🧩 Discussion\n",
        "- The **graph-based recommender** models **structural similarities** among movies.  \n",
        "- **Node2Vec embeddings** capture **neighborhood context**, enabling better relational recommendations.  \n",
        "- The visualization reveals **clusters** of semantically related movies.  \n",
        "- This model complements TF-IDF and SBERT by incorporating **network topology**.  \n",
        "\n",
        "---\n",
        "**Next Step:** Extend this approach using **Graph Neural Networks (GNNs)** such as **GraphSAGE** or **GCN** for end-to-end graph learning.\n"
      ]
    }
  ],
  "metadata": {
    "colab": {
      "provenance": [],
      "include_colab_link": true
    },
    "language_info": {
      "name": "python"
    },
    "kernelspec": {
      "name": "python3",
      "display_name": "Python 3"
    }
  },
  "nbformat": 4,
  "nbformat_minor": 5
}